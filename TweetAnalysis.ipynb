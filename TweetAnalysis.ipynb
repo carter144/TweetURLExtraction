{
 "cells": [
  {
   "cell_type": "code",
   "execution_count": 1,
   "metadata": {
    "collapsed": true
   },
   "outputs": [],
   "source": [
    "# Importing relevant Python libraries\n",
    "import pandas\n",
    "import re"
   ]
  },
  {
   "cell_type": "code",
   "execution_count": 2,
   "metadata": {
    "collapsed": false
   },
   "outputs": [
    {
     "data": {
      "text/html": [
       "<div>\n",
       "<table border=\"1\" class=\"dataframe\">\n",
       "  <thead>\n",
       "    <tr style=\"text-align: right;\">\n",
       "      <th></th>\n",
       "      <th>contributors</th>\n",
       "      <th>coordinates</th>\n",
       "      <th>created_at</th>\n",
       "      <th>display_text_range</th>\n",
       "      <th>entities</th>\n",
       "      <th>extended_entities</th>\n",
       "      <th>favorite_count</th>\n",
       "      <th>favorited</th>\n",
       "      <th>full_text</th>\n",
       "      <th>geo</th>\n",
       "      <th>...</th>\n",
       "      <th>possibly_sensitive</th>\n",
       "      <th>quoted_status</th>\n",
       "      <th>quoted_status_id</th>\n",
       "      <th>quoted_status_id_str</th>\n",
       "      <th>retweet_count</th>\n",
       "      <th>retweeted</th>\n",
       "      <th>retweeted_status</th>\n",
       "      <th>source</th>\n",
       "      <th>truncated</th>\n",
       "      <th>user</th>\n",
       "    </tr>\n",
       "  </thead>\n",
       "  <tbody>\n",
       "    <tr>\n",
       "      <th>0</th>\n",
       "      <td>NaN</td>\n",
       "      <td>None</td>\n",
       "      <td>2018-01-23 16:53:33</td>\n",
       "      <td>[0, 140]</td>\n",
       "      <td>{'hashtags': [], 'urls': [], 'user_mentions': ...</td>\n",
       "      <td>NaN</td>\n",
       "      <td>0</td>\n",
       "      <td>False</td>\n",
       "      <td>RT @LucasBryner3: Another fricken shooting in ...</td>\n",
       "      <td>None</td>\n",
       "      <td>...</td>\n",
       "      <td>NaN</td>\n",
       "      <td>NaN</td>\n",
       "      <td>NaN</td>\n",
       "      <td>NaN</td>\n",
       "      <td>2</td>\n",
       "      <td>False</td>\n",
       "      <td>{'contributors': None, 'geo': None, 'display_t...</td>\n",
       "      <td>&lt;a href=\"http://twitter.com/download/android\" ...</td>\n",
       "      <td>False</td>\n",
       "      <td>{'has_extended_profile': True, 'location': '',...</td>\n",
       "    </tr>\n",
       "    <tr>\n",
       "      <th>1</th>\n",
       "      <td>NaN</td>\n",
       "      <td>None</td>\n",
       "      <td>2018-01-23 16:53:33</td>\n",
       "      <td>[0, 140]</td>\n",
       "      <td>{'hashtags': [], 'urls': [], 'user_mentions': ...</td>\n",
       "      <td>NaN</td>\n",
       "      <td>0</td>\n",
       "      <td>False</td>\n",
       "      <td>RT @ALT_uscis: There was a Kentucky \"Marshall ...</td>\n",
       "      <td>None</td>\n",
       "      <td>...</td>\n",
       "      <td>NaN</td>\n",
       "      <td>NaN</td>\n",
       "      <td>NaN</td>\n",
       "      <td>NaN</td>\n",
       "      <td>34</td>\n",
       "      <td>False</td>\n",
       "      <td>{'contributors': None, 'geo': None, 'display_t...</td>\n",
       "      <td>&lt;a href=\"http://twitter.com/#!/download/ipad\" ...</td>\n",
       "      <td>False</td>\n",
       "      <td>{'has_extended_profile': False, 'location': 'C...</td>\n",
       "    </tr>\n",
       "    <tr>\n",
       "      <th>2</th>\n",
       "      <td>NaN</td>\n",
       "      <td>None</td>\n",
       "      <td>2018-01-23 16:53:32</td>\n",
       "      <td>[0, 112]</td>\n",
       "      <td>{'hashtags': [], 'urls': [{'indices': [89, 112...</td>\n",
       "      <td>NaN</td>\n",
       "      <td>0</td>\n",
       "      <td>False</td>\n",
       "      <td>Authorities: At least 5 people shot this morni...</td>\n",
       "      <td>None</td>\n",
       "      <td>...</td>\n",
       "      <td>0.0</td>\n",
       "      <td>NaN</td>\n",
       "      <td>NaN</td>\n",
       "      <td>NaN</td>\n",
       "      <td>0</td>\n",
       "      <td>False</td>\n",
       "      <td>NaN</td>\n",
       "      <td>&lt;a href=\"http://www.socialnewsdesk.com\" rel=\"n...</td>\n",
       "      <td>False</td>\n",
       "      <td>{'has_extended_profile': False, 'location': 'M...</td>\n",
       "    </tr>\n",
       "    <tr>\n",
       "      <th>3</th>\n",
       "      <td>NaN</td>\n",
       "      <td>None</td>\n",
       "      <td>2018-01-23 16:53:32</td>\n",
       "      <td>[0, 112]</td>\n",
       "      <td>{'hashtags': [], 'urls': [{'indices': [89, 112...</td>\n",
       "      <td>NaN</td>\n",
       "      <td>0</td>\n",
       "      <td>False</td>\n",
       "      <td>Authorities: At least 5 people shot this morni...</td>\n",
       "      <td>None</td>\n",
       "      <td>...</td>\n",
       "      <td>0.0</td>\n",
       "      <td>NaN</td>\n",
       "      <td>NaN</td>\n",
       "      <td>NaN</td>\n",
       "      <td>0</td>\n",
       "      <td>False</td>\n",
       "      <td>NaN</td>\n",
       "      <td>&lt;a href=\"http://www.socialnewsdesk.com\" rel=\"n...</td>\n",
       "      <td>False</td>\n",
       "      <td>{'has_extended_profile': False, 'location': 'K...</td>\n",
       "    </tr>\n",
       "    <tr>\n",
       "      <th>4</th>\n",
       "      <td>NaN</td>\n",
       "      <td>None</td>\n",
       "      <td>2018-01-23 16:53:30</td>\n",
       "      <td>[0, 154]</td>\n",
       "      <td>{'hashtags': [{'text': 'USA', 'indices': [125,...</td>\n",
       "      <td>NaN</td>\n",
       "      <td>0</td>\n",
       "      <td>False</td>\n",
       "      <td>There was a shooting at a high school in Kentu...</td>\n",
       "      <td>None</td>\n",
       "      <td>...</td>\n",
       "      <td>0.0</td>\n",
       "      <td>NaN</td>\n",
       "      <td>NaN</td>\n",
       "      <td>NaN</td>\n",
       "      <td>0</td>\n",
       "      <td>False</td>\n",
       "      <td>NaN</td>\n",
       "      <td>&lt;a href=\"http://twitter.com\" rel=\"nofollow\"&gt;Tw...</td>\n",
       "      <td>False</td>\n",
       "      <td>{'has_extended_profile': True, 'location': 'Ne...</td>\n",
       "    </tr>\n",
       "  </tbody>\n",
       "</table>\n",
       "<p>5 rows × 31 columns</p>\n",
       "</div>"
      ],
      "text/plain": [
       "   contributors coordinates          created_at display_text_range  \\\n",
       "0           NaN        None 2018-01-23 16:53:33           [0, 140]   \n",
       "1           NaN        None 2018-01-23 16:53:33           [0, 140]   \n",
       "2           NaN        None 2018-01-23 16:53:32           [0, 112]   \n",
       "3           NaN        None 2018-01-23 16:53:32           [0, 112]   \n",
       "4           NaN        None 2018-01-23 16:53:30           [0, 154]   \n",
       "\n",
       "                                            entities extended_entities  \\\n",
       "0  {'hashtags': [], 'urls': [], 'user_mentions': ...               NaN   \n",
       "1  {'hashtags': [], 'urls': [], 'user_mentions': ...               NaN   \n",
       "2  {'hashtags': [], 'urls': [{'indices': [89, 112...               NaN   \n",
       "3  {'hashtags': [], 'urls': [{'indices': [89, 112...               NaN   \n",
       "4  {'hashtags': [{'text': 'USA', 'indices': [125,...               NaN   \n",
       "\n",
       "   favorite_count favorited  \\\n",
       "0               0     False   \n",
       "1               0     False   \n",
       "2               0     False   \n",
       "3               0     False   \n",
       "4               0     False   \n",
       "\n",
       "                                           full_text   geo  \\\n",
       "0  RT @LucasBryner3: Another fricken shooting in ...  None   \n",
       "1  RT @ALT_uscis: There was a Kentucky \"Marshall ...  None   \n",
       "2  Authorities: At least 5 people shot this morni...  None   \n",
       "3  Authorities: At least 5 people shot this morni...  None   \n",
       "4  There was a shooting at a high school in Kentu...  None   \n",
       "\n",
       "                         ...                          possibly_sensitive  \\\n",
       "0                        ...                                         NaN   \n",
       "1                        ...                                         NaN   \n",
       "2                        ...                                         0.0   \n",
       "3                        ...                                         0.0   \n",
       "4                        ...                                         0.0   \n",
       "\n",
       "   quoted_status quoted_status_id  quoted_status_id_str  retweet_count  \\\n",
       "0            NaN              NaN                   NaN              2   \n",
       "1            NaN              NaN                   NaN             34   \n",
       "2            NaN              NaN                   NaN              0   \n",
       "3            NaN              NaN                   NaN              0   \n",
       "4            NaN              NaN                   NaN              0   \n",
       "\n",
       "   retweeted                                   retweeted_status  \\\n",
       "0      False  {'contributors': None, 'geo': None, 'display_t...   \n",
       "1      False  {'contributors': None, 'geo': None, 'display_t...   \n",
       "2      False                                                NaN   \n",
       "3      False                                                NaN   \n",
       "4      False                                                NaN   \n",
       "\n",
       "                                              source truncated  \\\n",
       "0  <a href=\"http://twitter.com/download/android\" ...     False   \n",
       "1  <a href=\"http://twitter.com/#!/download/ipad\" ...     False   \n",
       "2  <a href=\"http://www.socialnewsdesk.com\" rel=\"n...     False   \n",
       "3  <a href=\"http://www.socialnewsdesk.com\" rel=\"n...     False   \n",
       "4  <a href=\"http://twitter.com\" rel=\"nofollow\">Tw...     False   \n",
       "\n",
       "                                                user  \n",
       "0  {'has_extended_profile': True, 'location': '',...  \n",
       "1  {'has_extended_profile': False, 'location': 'C...  \n",
       "2  {'has_extended_profile': False, 'location': 'M...  \n",
       "3  {'has_extended_profile': False, 'location': 'K...  \n",
       "4  {'has_extended_profile': True, 'location': 'Ne...  \n",
       "\n",
       "[5 rows x 31 columns]"
      ]
     },
     "execution_count": 2,
     "metadata": {},
     "output_type": "execute_result"
    }
   ],
   "source": [
    "# Reading the data into a Pandas DataFrame\n",
    "tweet_df = pandas.read_json(\"data/kentucky school shooting.json\")\n",
    "tweet_df.head()"
   ]
  },
  {
   "cell_type": "code",
   "execution_count": 3,
   "metadata": {
    "collapsed": false
   },
   "outputs": [
    {
     "name": "stdout",
     "output_type": "stream",
     "text": [
      "Number of Tweets: 19930\n"
     ]
    }
   ],
   "source": [
    "# Finding the number of Tweets in the Dataframe\n",
    "print(\"Number of Tweets: %d\" % len(tweet_df))"
   ]
  },
  {
   "cell_type": "code",
   "execution_count": 4,
   "metadata": {
    "collapsed": true
   },
   "outputs": [],
   "source": [
    "# Exporting the JSON to a CSV for easier external analysis\n",
    "tweet_df.to_csv(\"data/converted_json.csv\", index=False)"
   ]
  },
  {
   "cell_type": "code",
   "execution_count": 5,
   "metadata": {
    "collapsed": false
   },
   "outputs": [
    {
     "data": {
      "text/plain": [
       "[955845970306260992,\n",
       " 'https://twitter.com/kpaxnews/status/955845970306260992',\n",
       " Timestamp('2018-01-23 16:53:32'),\n",
       " 'http://www.kpax.com/story/37329938/kentucky-school-shooting-at-least-5-shot-at-marshall-county-hs']"
      ]
     },
     "execution_count": 5,
     "metadata": {},
     "output_type": "execute_result"
    }
   ],
   "source": [
    "# Extracting the URLs from the DataFrame\n",
    "extracted_urls = []\n",
    "for idx, tweet in tweet_df.iterrows():\n",
    "    tweet_id = tweet[\"id\"]\n",
    "    created_at = tweet.created_at\n",
    "    user_screen_name = tweet.user[\"screen_name\"]\n",
    "    tweet_url = \"https://twitter.com/%s/status/%d\" % (user_screen_name, tweet_id)\n",
    "    for url in tweet.entities[\"urls\"]:\n",
    "        extracted_urls.append([tweet_id, tweet_url, created_at, url[\"expanded_url\"]])\n",
    "extracted_urls[0]"
   ]
  },
  {
   "cell_type": "code",
   "execution_count": 6,
   "metadata": {
    "collapsed": false
   },
   "outputs": [
    {
     "data": {
      "text/html": [
       "<div>\n",
       "<table border=\"1\" class=\"dataframe\">\n",
       "  <thead>\n",
       "    <tr style=\"text-align: right;\">\n",
       "      <th></th>\n",
       "      <th>tweet_id</th>\n",
       "      <th>tweet_url</th>\n",
       "      <th>created_at</th>\n",
       "      <th>url</th>\n",
       "    </tr>\n",
       "  </thead>\n",
       "  <tbody>\n",
       "    <tr>\n",
       "      <th>0</th>\n",
       "      <td>955845970306260992</td>\n",
       "      <td>https://twitter.com/kpaxnews/status/9558459703...</td>\n",
       "      <td>2018-01-23 16:53:32</td>\n",
       "      <td>http://www.kpax.com/story/37329938/kentucky-sc...</td>\n",
       "    </tr>\n",
       "    <tr>\n",
       "      <th>1</th>\n",
       "      <td>955845969190547456</td>\n",
       "      <td>https://twitter.com/KAJNews/status/95584596919...</td>\n",
       "      <td>2018-01-23 16:53:32</td>\n",
       "      <td>http://www.kpax.com/story/37329938/kentucky-sc...</td>\n",
       "    </tr>\n",
       "    <tr>\n",
       "      <th>2</th>\n",
       "      <td>955845959405260800</td>\n",
       "      <td>https://twitter.com/kwanzer/status/95584595940...</td>\n",
       "      <td>2018-01-23 16:53:30</td>\n",
       "      <td>https://www.nbcnews.com/news/us-news/one-dead-...</td>\n",
       "    </tr>\n",
       "    <tr>\n",
       "      <th>3</th>\n",
       "      <td>955845931412393990</td>\n",
       "      <td>https://twitter.com/_moribund_/status/95584593...</td>\n",
       "      <td>2018-01-23 16:53:23</td>\n",
       "      <td>http://cnn.it/2BpIXhK</td>\n",
       "    </tr>\n",
       "    <tr>\n",
       "      <th>4</th>\n",
       "      <td>955845916564606977</td>\n",
       "      <td>https://twitter.com/rollin_oliver/status/95584...</td>\n",
       "      <td>2018-01-23 16:53:19</td>\n",
       "      <td>http://abcn.ws/2BoEmMG</td>\n",
       "    </tr>\n",
       "  </tbody>\n",
       "</table>\n",
       "</div>"
      ],
      "text/plain": [
       "             tweet_id                                          tweet_url  \\\n",
       "0  955845970306260992  https://twitter.com/kpaxnews/status/9558459703...   \n",
       "1  955845969190547456  https://twitter.com/KAJNews/status/95584596919...   \n",
       "2  955845959405260800  https://twitter.com/kwanzer/status/95584595940...   \n",
       "3  955845931412393990  https://twitter.com/_moribund_/status/95584593...   \n",
       "4  955845916564606977  https://twitter.com/rollin_oliver/status/95584...   \n",
       "\n",
       "           created_at                                                url  \n",
       "0 2018-01-23 16:53:32  http://www.kpax.com/story/37329938/kentucky-sc...  \n",
       "1 2018-01-23 16:53:32  http://www.kpax.com/story/37329938/kentucky-sc...  \n",
       "2 2018-01-23 16:53:30  https://www.nbcnews.com/news/us-news/one-dead-...  \n",
       "3 2018-01-23 16:53:23                              http://cnn.it/2BpIXhK  \n",
       "4 2018-01-23 16:53:19                             http://abcn.ws/2BoEmMG  "
      ]
     },
     "execution_count": 6,
     "metadata": {},
     "output_type": "execute_result"
    }
   ],
   "source": [
    "# Creating a new DatFrame from the extracted URL info\n",
    "url_df = pandas.DataFrame(extracted_urls, columns = [\"tweet_id\", \"tweet_url\", \"created_at\", \"url\"])\n",
    "url_df.head()"
   ]
  },
  {
   "cell_type": "code",
   "execution_count": 7,
   "metadata": {
    "collapsed": true
   },
   "outputs": [],
   "source": [
    "# Exporting the extracted URL's to a new CSV\n",
    "url_df.to_csv(\"data/extracted_urls.csv\", index = False)"
   ]
  },
  {
   "cell_type": "code",
   "execution_count": null,
   "metadata": {
    "collapsed": true
   },
   "outputs": [],
   "source": [
    "# Finding number of extracted URL's\n",
    "print(\"Number of URL's extracted: %d\" % len(url_df))"
   ]
  }
 ],
 "metadata": {
  "anaconda-cloud": {},
  "kernelspec": {
   "display_name": "Python [conda root]",
   "language": "python",
   "name": "conda-root-py"
  },
  "language_info": {
   "codemirror_mode": {
    "name": "ipython",
    "version": 3
   },
   "file_extension": ".py",
   "mimetype": "text/x-python",
   "name": "python",
   "nbconvert_exporter": "python",
   "pygments_lexer": "ipython3",
   "version": "3.5.2"
  }
 },
 "nbformat": 4,
 "nbformat_minor": 1
}
